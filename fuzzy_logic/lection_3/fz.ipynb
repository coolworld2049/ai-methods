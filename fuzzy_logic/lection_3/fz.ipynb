{
 "cells": [
  {
   "cell_type": "code",
   "execution_count": 3,
   "metadata": {
    "collapsed": true
   },
   "outputs": [],
   "source": [
    "import numpy as np\n",
    "import matplotlib.pyplot as plt"
   ]
  },
  {
   "cell_type": "code",
   "execution_count": 4,
   "outputs": [],
   "source": [
    "import skfuzzy as fuzz\n",
    "from skfuzzy import control as ctrl\n",
    "import colorsys"
   ],
   "metadata": {
    "collapsed": false
   }
  },
  {
   "cell_type": "code",
   "execution_count": 5,
   "outputs": [],
   "source": [
    "\"\"\"\n",
    "Antecedents HSV\n",
    "HUE: color represented by number from 0(red) - 360(violet)\n",
    "{ WARM, COOL }\n",
    "\n",
    "SATURATION: color saturation represented by number from 0(faded/gray color) - 100(full color)\n",
    "{ GRAY, VERY_FADED, FADED, SATURATED, VERY_SATURATED }\n",
    "\n",
    "VALUE: brightness represented by number 0(dark) - 100(light)\n",
    "{ BLACK, VERY_DARK, DARK, BRIGHT, VERY_BRIGHT }\n",
    "\"\"\"\n",
    "\n",
    "hue_range = np.arange(240,100,50)\n",
    "hue_fuzzy = ['red_orange', 'orange', 'WARM_']\n",
    "hue = ctrl.Antecedent(hue_range, 'hue')\n",
    "hue['red_orange'] = fuzz.gaussmf(25, 100, 80.4)\n",
    "hue['orange'] = fuzz.gaussmf(25, 100, 80.4)\n",
    "\n",
    "\n",
    "\n",
    "sat = ctrl.Antecedent(np.arange(0, 101, 1), 'saturation')\n",
    "sat_fuzzy = ['GRAY', 'VERY_FADED', 'FADED', 'SATURATED', 'VERY_SATURATED']\n",
    "sat['GRAY'] = fuzz.gaussmf(sat.universe, 0, 10)\n",
    "sat['VERY_FADED'] = fuzz.gaussmf(sat.universe, 25, 10)\n",
    "sat['FADED'] = fuzz.gaussmf(sat.universe, 50, 10)\n",
    "sat['SATURATED'] = fuzz.gaussmf(sat.universe, 75, 10)\n",
    "sat['VERY_SATURATED'] = fuzz.gaussmf(sat.universe, 100, 10)\n",
    "\n",
    "\n",
    "val = ctrl.Antecedent(np.arange(0, 101, 1), 'value')\n",
    "val_fuzzy = ['BLACK', 'VERY_DARK', 'DARK', 'BRIGHT', 'VERY_BRIGHT']\n",
    "val['BLACK'] = fuzz.gaussmf(val.universe, 0, 10)\n",
    "val['VERY_DARK'] = fuzz.gaussmf(val.universe, 25, 10)\n",
    "val['DARK'] = fuzz.gaussmf(val.universe, 50, 10)\n",
    "val['BRIGHT'] = fuzz.gaussmf(val.universe, 75, 10)\n",
    "val['VERY_BRIGHT'] = fuzz.gaussmf(val.universe, 100, 10)"
   ],
   "metadata": {
    "collapsed": false
   }
  },
  {
   "cell_type": "code",
   "execution_count": 6,
   "outputs": [],
   "source": [
    "\"\"\"\n",
    "Consequents\n",
    "TONE: mix of Saturation and Value that indicate if color is neutral or dark/bright\n",
    "{ NEUTRAL, DARK, BRIGHT }\n",
    "\"\"\"\n",
    "tone_range = np.arange(0, 12, 1)\n",
    "tone_fuzzy = ['NEUTRAL', 'DARK', 'BRIGHT']\n",
    "tone = ctrl.Consequent(tone_range, 'tone')\n",
    "\n",
    "tone['NEUTRAL'] = fuzz.trapmf(tone.universe, [0, 0, 1, 2])\n",
    "tone['DARK'] = fuzz.gbellmf(tone.universe, 2, 1, 3)\n",
    "tone['BRIGHT'] = fuzz.gbellmf(tone.universe, 4, 1, 9.5)\n",
    "#tone['NEUTRAL_'] = fuzz.trimf(tone.universe, [10, 11, 11])"
   ],
   "metadata": {
    "collapsed": false
   }
  },
  {
   "cell_type": "code",
   "execution_count": 7,
   "outputs": [],
   "source": [
    "\"\"\"\n",
    "Fuzzy rules\n",
    "for tones\n",
    "\"\"\"\n",
    "rule1 = ctrl.Rule(val['BLACK'] | sat['GRAY'] | sat['VERY_FADED'], tone['NEUTRAL'], 'Dark colors without color (low brightness/dark) considered neutral')\n",
    "rule2 = ctrl.Rule(val['VERY_DARK'] & sat['SATURATED'], tone['NEUTRAL'], 'Very dark colors with high saturation')\n",
    "rule3 = ctrl.Rule(val['DARK'] & sat['FADED'], tone['DARK'], 'Dark color with normal saturation')\n",
    "rule4 = ctrl.Rule(val['DARK'] & sat['VERY_SATURATED'], tone['BRIGHT'], 'Dark color with high saturation')\n",
    "rule5 = ctrl.Rule(val['BRIGHT'] & sat['SATURATED'], tone['BRIGHT'], 'Bright color with high saturation')\n",
    "rule6 = ctrl.Rule(val['VERY_BRIGHT'] & sat['FADED'], tone['BRIGHT'], 'Very bright color with some saturation')\n",
    "rule7 = ctrl.Rule(val['VERY_BRIGHT'] & sat['VERY_SATURATED'], tone['BRIGHT'], 'Very bright color with high saturation')\n",
    "rule8 = ctrl.Rule(val['VERY_DARK'] & sat['FADED'], tone['NEUTRAL'], 'Very dark color with faded saturation')"
   ],
   "metadata": {
    "collapsed": false
   }
  }
 ],
 "metadata": {
  "kernelspec": {
   "display_name": "Python 3",
   "language": "python",
   "name": "python3"
  },
  "language_info": {
   "codemirror_mode": {
    "name": "ipython",
    "version": 2
   },
   "file_extension": ".py",
   "mimetype": "text/x-python",
   "name": "python",
   "nbconvert_exporter": "python",
   "pygments_lexer": "ipython2",
   "version": "2.7.6"
  }
 },
 "nbformat": 4,
 "nbformat_minor": 0
}
